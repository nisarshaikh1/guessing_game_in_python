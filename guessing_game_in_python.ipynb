{
 "cells": [
  {
   "cell_type": "code",
   "execution_count": 1,
   "id": "9a009736",
   "metadata": {},
   "outputs": [],
   "source": [
    "#Guessing Game in Python"
   ]
  },
  {
   "cell_type": "code",
   "execution_count": 2,
   "id": "cfda739a",
   "metadata": {},
   "outputs": [],
   "source": [
    "import random"
   ]
  },
  {
   "cell_type": "code",
   "execution_count": 3,
   "id": "e413abf3",
   "metadata": {},
   "outputs": [
    {
     "data": {
      "text/plain": [
       "48"
      ]
     },
     "execution_count": 3,
     "metadata": {},
     "output_type": "execute_result"
    }
   ],
   "source": [
    "random.randint(1,100)"
   ]
  },
  {
   "cell_type": "code",
   "execution_count": 4,
   "id": "e3be331f",
   "metadata": {},
   "outputs": [
    {
     "name": "stdout",
     "output_type": "stream",
     "text": [
      "Guess the Number55\n",
      "Guess Lower\n",
      "Guess the Number45\n",
      "Guess Lower\n",
      "Guess the Number35\n",
      "Guess Lower\n",
      "Guess the Number25\n",
      "Guess Lower\n",
      "Guess the Number15\n",
      "Guess Lower\n",
      "Guess the Number5\n",
      "Guess Lower\n",
      "Guess the Number4\n",
      "Guess Lower\n",
      "Guess the Number3\n",
      "Right Ghuess\n",
      "You took 8 Ateempts\n"
     ]
    }
   ],
   "source": [
    "jackpot = random.randint(1,100)\n",
    "\n",
    "guess = int(input(\"Guess the Number\"))\n",
    "counter = 1\n",
    "\n",
    "while guess != jackpot:\n",
    "    if guess < jackpot:\n",
    "        print(\"Guess Higher\")\n",
    "    else:\n",
    "        print(\"Guess Lower\")\n",
    "    guess = int(input(\"Guess the Number\"))\n",
    "    counter+=1\n",
    "\n",
    "print(\"Right Ghuess\")\n",
    "print(\"You took\",counter,\"Ateempts\")"
   ]
  }
 ],
 "metadata": {
  "kernelspec": {
   "display_name": "Python 3 (ipykernel)",
   "language": "python",
   "name": "python3"
  },
  "language_info": {
   "codemirror_mode": {
    "name": "ipython",
    "version": 3
   },
   "file_extension": ".py",
   "mimetype": "text/x-python",
   "name": "python",
   "nbconvert_exporter": "python",
   "pygments_lexer": "ipython3",
   "version": "3.9.12"
  }
 },
 "nbformat": 4,
 "nbformat_minor": 5
}
